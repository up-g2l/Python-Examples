{
 "cells": [
  {
   "cell_type": "markdown",
   "metadata": {},
   "source": [
    "## Some interesting questions on prime number"
   ]
  },
  {
   "cell_type": "code",
   "execution_count": 1,
   "metadata": {
    "collapsed": true
   },
   "outputs": [],
   "source": [
    "from __future__ import print_function, division, with_statement \n",
    "import numpy as np\n",
    "import math\n",
    "import matplotlib.pyplot as plt\n",
    "\n",
    "%matplotlib inline"
   ]
  },
  {
   "cell_type": "markdown",
   "metadata": {},
   "source": [
    "### Prime numbers smaller than N"
   ]
  },
  {
   "cell_type": "code",
   "execution_count": 11,
   "metadata": {
    "collapsed": true
   },
   "outputs": [],
   "source": [
    "# Find all primes smaller than N\n",
    "\n",
    "def prime_list(N):\n",
    "    '''\n",
    "    Find all the primes samller than a given number\n",
    "    '''\n",
    "    nums = range(2, N) \n",
    "    sqr = int(np.round(math.sqrt(N),decimals=0)) +1\n",
    "    for i in range(2, sqr): \n",
    "        nums = filter(lambda x: x == i or x % i, nums)\n",
    "    return nums"
   ]
  },
  {
   "cell_type": "code",
   "execution_count": 3,
   "metadata": {},
   "outputs": [
    {
     "name": "stdout",
     "output_type": "stream",
     "text": [
      "The list of primes smaller than 50 are: \n",
      " [2, 3, 5, 7, 11, 13, 17, 19, 23, 29, 31, 37, 41, 43, 47]\n"
     ]
    }
   ],
   "source": [
    "print(\"The list of primes smaller than 50 are: \\n\", prime_list(50))"
   ]
  },
  {
   "cell_type": "code",
   "execution_count": 4,
   "metadata": {},
   "outputs": [
    {
     "name": "stdout",
     "output_type": "stream",
     "text": [
      "The list of primes smaller than 100 are: \n",
      " [2, 3, 5, 7, 11, 13, 17, 19, 23, 29, 31, 37, 41, 43, 47, 53, 59, 61, 67, 71, 73, 79, 83, 89, 97]\n"
     ]
    }
   ],
   "source": [
    "print(\"The list of primes smaller than 100 are: \\n\", prime_list(100))"
   ]
  },
  {
   "cell_type": "code",
   "execution_count": 7,
   "metadata": {},
   "outputs": [
    {
     "name": "stdout",
     "output_type": "stream",
     "text": [
      "The number  of primes smaller than 500 are:  95\n"
     ]
    }
   ],
   "source": [
    "print(\"The number  of primes smaller than 500 are: \",len( prime_list(500)))"
   ]
  },
  {
   "cell_type": "code",
   "execution_count": 10,
   "metadata": {},
   "outputs": [
    {
     "name": "stdout",
     "output_type": "stream",
     "text": [
      "The list of primes smaller than 10000 are:  1229\n"
     ]
    }
   ],
   "source": [
    "print(\"The list of primes smaller than 10000 are: \", len(prime_list(10000)))"
   ]
  },
  {
   "cell_type": "markdown",
   "metadata": {},
   "source": [
    "### First N primes"
   ]
  },
  {
   "cell_type": "code",
   "execution_count": 12,
   "metadata": {
    "collapsed": true
   },
   "outputs": [],
   "source": [
    "def first_N_primes(N):\n",
    "    '''\n",
    "    Finds the first N primes\n",
    "    Parameters\n",
    "    -----------\n",
    "    N: an integer N\n",
    "    \n",
    "    Returns: list of primes\n",
    "    '''\n",
    "    if N<1:\n",
    "        print(\"Please provide a positive number.\")\n",
    "        return []\n",
    "    \n",
    "    primes = [2]\n",
    "    count = 1\n",
    "    candidate = 3\n",
    "    \n",
    "    while count < N:\n",
    "        top = int(np.ceil(np.sqrt(candidate)))\n",
    "        \n",
    "        is_prime = True\n",
    "        i=0\n",
    "        while  i<len(primes) and primes[i] <= top:\n",
    "            if candidate % primes[i] == 0:\n",
    "                is_prime = False\n",
    "                break\n",
    "            i+=1\n",
    "        if is_prime:\n",
    "            primes.append(candidate)\n",
    "            count+=1\n",
    "            \n",
    "        candidate +=1;\n",
    "        \n",
    "    return primes"
   ]
  },
  {
   "cell_type": "code",
   "execution_count": 13,
   "metadata": {},
   "outputs": [
    {
     "data": {
      "text/plain": [
       "[2, 3, 5, 7, 11, 13, 17, 19, 23, 29]"
      ]
     },
     "execution_count": 13,
     "metadata": {},
     "output_type": "execute_result"
    }
   ],
   "source": [
    "first_N_primes(10)"
   ]
  },
  {
   "cell_type": "code",
   "execution_count": 14,
   "metadata": {},
   "outputs": [
    {
     "data": {
      "text/plain": [
       "[2, 3, 5, 7, 11, 13, 17, 19, 23, 29, 31, 37, 41, 43, 47, 53, 59, 61, 67, 71]"
      ]
     },
     "execution_count": 14,
     "metadata": {},
     "output_type": "execute_result"
    }
   ],
   "source": [
    "first_N_primes(20)"
   ]
  },
  {
   "cell_type": "code",
   "execution_count": 19,
   "metadata": {},
   "outputs": [
    {
     "name": "stdout",
     "output_type": "stream",
     "text": [
      "10 loops, best of 3: 22.4 ms per loop\n"
     ]
    }
   ],
   "source": [
    "%%timeit  # How long does is take in the computation\n",
    "np.max(first_N_primes(1000)) \n"
   ]
  },
  {
   "cell_type": "code",
   "execution_count": 55,
   "metadata": {},
   "outputs": [
    {
     "data": {
      "text/plain": [
       "[<matplotlib.lines.Line2D at 0x1104f48d0>]"
      ]
     },
     "execution_count": 55,
     "metadata": {},
     "output_type": "execute_result"
    },
    {
     "data": {
      "image/png": "[encoded data removed]",
      "text/plain": [
       "<matplotlib.figure.Figure at 0x110565b90>"
      ]
     },
     "metadata": {},
     "output_type": "display_data"
    }
   ],
   "source": [
    "# The progress of primes\n",
    "plt.plot(first_N_primes(10000))"
   ]
  },
  {
   "cell_type": "code",
   "execution_count": 4,
   "metadata": {},
   "outputs": [
    {
     "data": {
      "text/plain": [
       "[2, 3, 5, 7, 11, 13, 17, 19, 23, 29, 31, 37, 41, 43, 47, 53, 59, 61, 67, 71]"
      ]
     },
     "execution_count": 4,
     "metadata": {},
     "output_type": "execute_result"
    }
   ],
   "source": [
    "first_N_primes(20)"
   ]
  },
  {
   "cell_type": "markdown",
   "metadata": {},
   "source": [
    "### All prime factors of N"
   ]
  },
  {
   "cell_type": "code",
   "execution_count": 20,
   "metadata": {
    "collapsed": true
   },
   "outputs": [],
   "source": [
    "def prime_factors(N):\n",
    "    '''\n",
    "    This function returns all prime factors of a given number N\n",
    "    '''\n",
    "    top = int(np.ceil(1+N/2))\n",
    "    primes = prime_list(top)\n",
    "    factors = filter(lambda x: N % x ==0, primes)\n",
    "    if len(factors)==0:\n",
    "        factors.append(N)\n",
    "    return factors\n"
   ]
  },
  {
   "cell_type": "code",
   "execution_count": 24,
   "metadata": {},
   "outputs": [
    {
     "name": "stdout",
     "output_type": "stream",
     "text": [
      "Prime factors of 68:  [2, 17]\n",
      "Prime factors of 121:  [11]\n",
      "Prime factors of 244:  [2, 61]\n",
      "Prime factors of 720:  [2, 3, 5]\n",
      "Prime factors of 18675:  [3, 5, 83]\n"
     ]
    }
   ],
   "source": [
    "print(\"Prime factors of 68: \", prime_factors(68))\n",
    "print(\"Prime factors of 121: \", prime_factors(121))\n",
    "print(\"Prime factors of 244: \", prime_factors(244))\n",
    "print(\"Prime factors of 720: \", prime_factors(720))\n",
    "print(\"Prime factors of 18675: \", prime_factors(18675))"
   ]
  },
  {
   "cell_type": "markdown",
   "metadata": {},
   "source": [
    "### Prime factorization\n",
    "***\n",
    "$$ N = 2^a 3^b..$$"
   ]
  },
  {
   "cell_type": "code",
   "execution_count": 25,
   "metadata": {
    "collapsed": true
   },
   "outputs": [],
   "source": [
    "def prime_factorization(N):\n",
    "    '''\n",
    "    Find the prime factorization in power of primes.\n",
    "    ---\n",
    "    Returns a list of tuples like (2,a), (3,b), ... \n",
    "    '''\n",
    "    prime_fact = prime_factors(N)\n",
    "    fact_pow = []\n",
    "    \n",
    "    rem = N\n",
    "    for p in prime_fact:\n",
    "        a=0\n",
    "        while rem % p == 0:\n",
    "            a += 1\n",
    "            rem = rem / p\n",
    "        fact_pow.append((p,a))\n",
    "    return fact_pow\n",
    "    "
   ]
  },
  {
   "cell_type": "code",
   "execution_count": 26,
   "metadata": {},
   "outputs": [
    {
     "data": {
      "text/plain": [
       "[(7, 2), (11, 1), (19, 1)]"
      ]
     },
     "execution_count": 26,
     "metadata": {},
     "output_type": "execute_result"
    }
   ],
   "source": [
    "prime_factorization(10241)"
   ]
  },
  {
   "cell_type": "code",
   "execution_count": 7,
   "metadata": {
    "collapsed": true
   },
   "outputs": [],
   "source": [
    "def factorial(n):\n",
    "    if n==0:\n",
    "        return 1\n",
    "    else:\n",
    "        return n*factorial(n-1)"
   ]
  },
  {
   "cell_type": "code",
   "execution_count": 10,
   "metadata": {},
   "outputs": [
    {
     "data": {
      "text/plain": [
       "3628800"
      ]
     },
     "execution_count": 10,
     "metadata": {},
     "output_type": "execute_result"
    }
   ],
   "source": [
    "factorial(10)"
   ]
  },
  {
   "cell_type": "code",
   "execution_count": 68,
   "metadata": {},
   "outputs": [
    {
     "data": {
      "text/plain": [
       "[(2, 7), (3, 4), (5, 1), (7, 1)]"
      ]
     },
     "execution_count": 68,
     "metadata": {},
     "output_type": "execute_result"
    }
   ],
   "source": [
    "prime_factorization(factorial(9))"
   ]
  },
  {
   "cell_type": "code",
   "execution_count": null,
   "metadata": {
    "collapsed": true
   },
   "outputs": [],
   "source": [
    "# All the primes having n digits\n",
    "def primes_n_digits():\n",
    "    pass\n",
    "\n"
   ]
  },
  {
   "cell_type": "markdown",
   "metadata": {},
   "source": [
    "### Mersenne Prime\n",
    "***\n",
    "Primes that could be written form $2^n-1$ for example 3, 7, 31, 127. It si easy to show that if $2^n - 1$ is a prime then so is $n$. The converse of the statemetn is not true, eg., $2^{11} - 1 =2017$ is not prime, even though 11 is.\n",
    "\n",
    "**Lucas–Lehmer Primality Test**: Most efficient test for Mercenne Primes\n",
    "First we start with $n=0$, $a_0 = 4$. \n",
    "Then $a_n = a_{n-1}^1 - 2$ and  \n",
    "The number $2^k - 1$ is a prime if $a_{k-2} \\equiv = 0$(mod $2^k - 1$) is true.\n",
    "***\n",
    "Source: \n",
    "- https://brilliant.org/wiki/mersenne-prime/\n",
    "- https://primes.utm.edu/mersenne/index.html#known"
   ]
  },
  {
   "cell_type": "code",
   "execution_count": null,
   "metadata": {
    "collapsed": true
   },
   "outputs": [],
   "source": []
  }
 ],
 "metadata": {
  "kernelspec": {
   "display_name": "Python 2",
   "language": "python",
   "name": "python2"
  },
  "language_info": {
   "codemirror_mode": {
    "name": "ipython",
    "version": 2
   },
   "file_extension": ".py",
   "mimetype": "text/x-python",
   "name": "python",
   "nbconvert_exporter": "python",
   "pygments_lexer": "ipython2",
   "version": "2.7.13"
  }
 },
 "nbformat": 4,
 "nbformat_minor": 2
}
