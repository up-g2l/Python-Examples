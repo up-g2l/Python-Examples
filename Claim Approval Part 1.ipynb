{
 "cells": [
  {
   "cell_type": "markdown",
   "metadata": {},
   "source": [
    "## Insurance Claim: Data Cleaning, imputation and preparation\n",
    "***\n",
    "In this notebook (first of two parts) we work with an isurance claim dataset--which is not publicly available. This dataset is not clean, has numerous missing entries and outliers in most of the columns."
   ]
  },
  {
   "cell_type": "code",
   "execution_count": 2,
   "metadata": {
    "collapsed": true
   },
   "outputs": [],
   "source": [
    "import pandas as pd\n",
    "import numpy as np\n",
    "import matplotlib.pyplot as plt\n",
    "from sklearn.preprocessing import LabelEncoder\n",
    "from fancyimpute import KNN\n",
    "from sklearn.neighbors import NearestNeighbors\n",
    "\n",
    "%matplotlib inline"
   ]
  },
  {
   "cell_type": "markdown",
   "metadata": {},
   "source": [
    "### Loading the data and basic visual inspection\n",
    "***\n",
    "**Observations**\n",
    "- From the info() function, we see that there are several columns with missing entries.\n",
    "- From the describe() function we get an idea that several out the column could have outliers."
   ]
  },
  {
   "cell_type": "code",
   "execution_count": 83,
   "metadata": {},
   "outputs": [],
   "source": [
    "## Load the train data\n",
    "df_train_raw = pd.read_csv(\"./datasets/exercise_02_train.csv\")\n",
    "\n",
    "## Load the test data\n",
    "df_test_raw = pd.read_csv(\"./datasets/exercise_02_test.csv\")"
   ]
  },
  {
   "cell_type": "code",
   "execution_count": 84,
   "metadata": {},
   "outputs": [
    {
     "name": "stdout",
     "output_type": "stream",
     "text": [
      "('Train data shape: ', (40000, 101))\n",
      "('Test data shape: ', (10000, 100))\n"
     ]
    }
   ],
   "source": [
    "print (\"Train data shape: \", df_train_raw.shape)\n",
    "print (\"Test data shape: \", df_test_raw.shape)"
   ]
  },
  {
   "cell_type": "code",
   "execution_count": 85,
   "metadata": {},
   "outputs": [
    {
     "name": "stdout",
     "output_type": "stream",
     "text": [
      "<class 'pandas.core.frame.DataFrame'>\n",
      "RangeIndex: 40000 entries, 0 to 39999\n",
      "Columns: 101 entries, x0 to y\n",
      "dtypes: float64(94), int64(1), object(6)\n",
      "memory usage: 30.8+ MB\n",
      "None\n"
     ]
    }
   ],
   "source": [
    "# INSPECT the train data: NOTED that there are six objects columns\n",
    "print df_train_raw.info()"
   ]
  },
  {
   "cell_type": "code",
   "execution_count": 86,
   "metadata": {},
   "outputs": [
    {
     "name": "stdout",
     "output_type": "stream",
     "text": [
      "<class 'pandas.core.frame.DataFrame'>\n",
      "RangeIndex: 10000 entries, 0 to 9999\n",
      "Data columns (total 100 columns):\n",
      "x0     9997 non-null float64\n",
      "x1     9998 non-null float64\n",
      "x2     9999 non-null float64\n",
      "x3     9996 non-null float64\n",
      "x4     10000 non-null float64\n",
      "x5     9995 non-null float64\n",
      "x6     9999 non-null float64\n",
      "x7     9996 non-null float64\n",
      "x8     9999 non-null float64\n",
      "x9     9998 non-null float64\n",
      "x10    9998 non-null float64\n",
      "x11    9998 non-null float64\n",
      "x12    9999 non-null float64\n",
      "x13    9997 non-null float64\n",
      "x14    9998 non-null float64\n",
      "x15    9995 non-null float64\n",
      "x16    9998 non-null float64\n",
      "x17    9999 non-null float64\n",
      "x18    9999 non-null float64\n",
      "x19    9999 non-null float64\n",
      "x20    9998 non-null float64\n",
      "x21    9998 non-null float64\n",
      "x22    9999 non-null float64\n",
      "x23    9999 non-null float64\n",
      "x24    9998 non-null float64\n",
      "x25    10000 non-null float64\n",
      "x26    9998 non-null float64\n",
      "x27    9999 non-null float64\n",
      "x28    9999 non-null float64\n",
      "x29    9999 non-null float64\n",
      "x30    9999 non-null float64\n",
      "x31    9998 non-null float64\n",
      "x32    9997 non-null float64\n",
      "x33    9998 non-null float64\n",
      "x34    9998 non-null object\n",
      "x35    10000 non-null object\n",
      "x36    9998 non-null float64\n",
      "x37    9998 non-null float64\n",
      "x38    10000 non-null float64\n",
      "x39    9999 non-null float64\n",
      "x40    9998 non-null float64\n",
      "x41    9998 non-null object\n",
      "x42    9997 non-null float64\n",
      "x43    10000 non-null float64\n",
      "x44    9997 non-null float64\n",
      "x45    9998 non-null object\n",
      "x46    9996 non-null float64\n",
      "x47    9998 non-null float64\n",
      "x48    9996 non-null float64\n",
      "x49    9997 non-null float64\n",
      "x50    10000 non-null float64\n",
      "x51    9998 non-null float64\n",
      "x52    9997 non-null float64\n",
      "x53    10000 non-null float64\n",
      "x54    9999 non-null float64\n",
      "x55    9994 non-null float64\n",
      "x56    9999 non-null float64\n",
      "x57    9998 non-null float64\n",
      "x58    9999 non-null float64\n",
      "x59    9999 non-null float64\n",
      "x60    9998 non-null float64\n",
      "x61    9998 non-null float64\n",
      "x62    9997 non-null float64\n",
      "x63    9999 non-null float64\n",
      "x64    9999 non-null float64\n",
      "x65    9998 non-null float64\n",
      "x66    9998 non-null float64\n",
      "x67    9999 non-null float64\n",
      "x68    9997 non-null object\n",
      "x69    9999 non-null float64\n",
      "x70    9999 non-null float64\n",
      "x71    9999 non-null float64\n",
      "x72    9998 non-null float64\n",
      "x73    9999 non-null float64\n",
      "x74    9997 non-null float64\n",
      "x75    9998 non-null float64\n",
      "x76    9999 non-null float64\n",
      "x77    9997 non-null float64\n",
      "x78    9997 non-null float64\n",
      "x79    9996 non-null float64\n",
      "x80    10000 non-null float64\n",
      "x81    9998 non-null float64\n",
      "x82    9998 non-null float64\n",
      "x83    9999 non-null float64\n",
      "x84    10000 non-null float64\n",
      "x85    9999 non-null float64\n",
      "x86    9999 non-null float64\n",
      "x87    9995 non-null float64\n",
      "x88    9998 non-null float64\n",
      "x89    9998 non-null float64\n",
      "x90    9999 non-null float64\n",
      "x91    9999 non-null float64\n",
      "x92    9999 non-null float64\n",
      "x93    9999 non-null object\n",
      "x94    9996 non-null float64\n",
      "x95    9999 non-null float64\n",
      "x96    9998 non-null float64\n",
      "x97    10000 non-null float64\n",
      "x98    9999 non-null float64\n",
      "x99    9998 non-null float64\n",
      "dtypes: float64(94), object(6)\n",
      "memory usage: 7.6+ MB\n"
     ]
    }
   ],
   "source": [
    "df_test_raw.info()"
   ]
  },
  {
   "cell_type": "code",
   "execution_count": 87,
   "metadata": {},
   "outputs": [
    {
     "data": {
      "text/html": [
       "<div>\n",
       "<style>\n",
       "    .dataframe thead tr:only-child th {\n",
       "        text-align: right;\n",
       "    }\n",
       "\n",
       "    .dataframe thead th {\n",
       "        text-align: left;\n",
       "    }\n",
       "\n",
       "    .dataframe tbody tr th {\n",
       "        vertical-align: top;\n",
       "    }\n",
       "</style>\n",
       "<table border=\"1\" class=\"dataframe\">\n",
       "  <thead>\n",
       "    <tr style=\"text-align: right;\">\n",
       "      <th></th>\n",
       "      <th>x0</th>\n",
       "      <th>x1</th>\n",
       "      <th>x2</th>\n",
       "      <th>x3</th>\n",
       "      <th>x4</th>\n",
       "      <th>x5</th>\n",
       "      <th>x6</th>\n",
       "      <th>x7</th>\n",
       "      <th>x8</th>\n",
       "      <th>x9</th>\n",
       "      <th>...</th>\n",
       "      <th>x90</th>\n",
       "      <th>x91</th>\n",
       "      <th>x92</th>\n",
       "      <th>x94</th>\n",
       "      <th>x95</th>\n",
       "      <th>x96</th>\n",
       "      <th>x97</th>\n",
       "      <th>x98</th>\n",
       "      <th>x99</th>\n",
       "      <th>y</th>\n",
       "    </tr>\n",
       "  </thead>\n",
       "  <tbody>\n",
       "    <tr>\n",
       "      <th>count</th>\n",
       "      <td>39989.000000</td>\n",
       "      <td>39990.000000</td>\n",
       "      <td>39992.000000</td>\n",
       "      <td>39991.000000</td>\n",
       "      <td>39992.000000</td>\n",
       "      <td>39994.000000</td>\n",
       "      <td>39990.000000</td>\n",
       "      <td>39991.000000</td>\n",
       "      <td>39994.000000</td>\n",
       "      <td>39993.000000</td>\n",
       "      <td>...</td>\n",
       "      <td>39993.000000</td>\n",
       "      <td>39996.000000</td>\n",
       "      <td>39993.000000</td>\n",
       "      <td>39992.000000</td>\n",
       "      <td>39992.000000</td>\n",
       "      <td>39985.000000</td>\n",
       "      <td>39987.000000</td>\n",
       "      <td>39994.000000</td>\n",
       "      <td>39987.000000</td>\n",
       "      <td>40000.00000</td>\n",
       "    </tr>\n",
       "    <tr>\n",
       "      <th>mean</th>\n",
       "      <td>3.446069</td>\n",
       "      <td>-7.788884</td>\n",
       "      <td>1.706058</td>\n",
       "      <td>-0.072972</td>\n",
       "      <td>0.123077</td>\n",
       "      <td>-0.608624</td>\n",
       "      <td>0.035576</td>\n",
       "      <td>-0.052651</td>\n",
       "      <td>-2.909764</td>\n",
       "      <td>-0.024265</td>\n",
       "      <td>...</td>\n",
       "      <td>-9.002636</td>\n",
       "      <td>-0.001751</td>\n",
       "      <td>-0.005731</td>\n",
       "      <td>-0.014064</td>\n",
       "      <td>-0.095040</td>\n",
       "      <td>-0.807556</td>\n",
       "      <td>-2.514305</td>\n",
       "      <td>0.038370</td>\n",
       "      <td>0.043218</td>\n",
       "      <td>0.20360</td>\n",
       "    </tr>\n",
       "    <tr>\n",
       "      <th>std</th>\n",
       "      <td>16.247547</td>\n",
       "      <td>37.014862</td>\n",
       "      <td>38.385085</td>\n",
       "      <td>1.503243</td>\n",
       "      <td>16.289994</td>\n",
       "      <td>15.585122</td>\n",
       "      <td>9.041371</td>\n",
       "      <td>6.953403</td>\n",
       "      <td>13.149006</td>\n",
       "      <td>2.939895</td>\n",
       "      <td>...</td>\n",
       "      <td>96.666843</td>\n",
       "      <td>2.626840</td>\n",
       "      <td>4.605320</td>\n",
       "      <td>2.166326</td>\n",
       "      <td>27.516763</td>\n",
       "      <td>23.836194</td>\n",
       "      <td>18.554646</td>\n",
       "      <td>8.450995</td>\n",
       "      <td>1.114444</td>\n",
       "      <td>0.40268</td>\n",
       "    </tr>\n",
       "    <tr>\n",
       "      <th>min</th>\n",
       "      <td>-60.113902</td>\n",
       "      <td>-157.341119</td>\n",
       "      <td>-163.339956</td>\n",
       "      <td>-6.276969</td>\n",
       "      <td>-61.632319</td>\n",
       "      <td>-62.808995</td>\n",
       "      <td>-35.060656</td>\n",
       "      <td>-26.736717</td>\n",
       "      <td>-53.735586</td>\n",
       "      <td>-11.497395</td>\n",
       "      <td>...</td>\n",
       "      <td>-422.711982</td>\n",
       "      <td>-10.179216</td>\n",
       "      <td>-20.044113</td>\n",
       "      <td>-9.396153</td>\n",
       "      <td>-125.064735</td>\n",
       "      <td>-108.474714</td>\n",
       "      <td>-73.908741</td>\n",
       "      <td>-35.416133</td>\n",
       "      <td>-4.376614</td>\n",
       "      <td>0.00000</td>\n",
       "    </tr>\n",
       "    <tr>\n",
       "      <th>25%</th>\n",
       "      <td>-7.602474</td>\n",
       "      <td>-32.740989</td>\n",
       "      <td>-24.141605</td>\n",
       "      <td>-1.088182</td>\n",
       "      <td>-10.896241</td>\n",
       "      <td>-11.183089</td>\n",
       "      <td>-6.090255</td>\n",
       "      <td>-4.747798</td>\n",
       "      <td>-11.722776</td>\n",
       "      <td>-2.004215</td>\n",
       "      <td>...</td>\n",
       "      <td>-73.209185</td>\n",
       "      <td>-1.777981</td>\n",
       "      <td>-3.113418</td>\n",
       "      <td>-1.491537</td>\n",
       "      <td>-18.465082</td>\n",
       "      <td>-16.826144</td>\n",
       "      <td>-15.026614</td>\n",
       "      <td>-5.645656</td>\n",
       "      <td>-0.710712</td>\n",
       "      <td>0.00000</td>\n",
       "    </tr>\n",
       "    <tr>\n",
       "      <th>50%</th>\n",
       "      <td>3.448865</td>\n",
       "      <td>-8.019993</td>\n",
       "      <td>1.963977</td>\n",
       "      <td>-0.062389</td>\n",
       "      <td>0.104277</td>\n",
       "      <td>-0.574567</td>\n",
       "      <td>0.046812</td>\n",
       "      <td>-0.037727</td>\n",
       "      <td>-2.941234</td>\n",
       "      <td>-0.054526</td>\n",
       "      <td>...</td>\n",
       "      <td>-6.884549</td>\n",
       "      <td>-0.019422</td>\n",
       "      <td>-0.007618</td>\n",
       "      <td>-0.012195</td>\n",
       "      <td>0.099472</td>\n",
       "      <td>-0.651197</td>\n",
       "      <td>-2.509525</td>\n",
       "      <td>0.023663</td>\n",
       "      <td>0.042663</td>\n",
       "      <td>0.00000</td>\n",
       "    </tr>\n",
       "    <tr>\n",
       "      <th>75%</th>\n",
       "      <td>14.266716</td>\n",
       "      <td>16.853383</td>\n",
       "      <td>27.516500</td>\n",
       "      <td>0.940612</td>\n",
       "      <td>11.078565</td>\n",
       "      <td>9.955357</td>\n",
       "      <td>6.100903</td>\n",
       "      <td>4.637982</td>\n",
       "      <td>5.865014</td>\n",
       "      <td>1.955100</td>\n",
       "      <td>...</td>\n",
       "      <td>56.676810</td>\n",
       "      <td>1.761629</td>\n",
       "      <td>3.100729</td>\n",
       "      <td>1.450074</td>\n",
       "      <td>18.514579</td>\n",
       "      <td>15.275896</td>\n",
       "      <td>9.889591</td>\n",
       "      <td>5.728781</td>\n",
       "      <td>0.797856</td>\n",
       "      <td>0.00000</td>\n",
       "    </tr>\n",
       "    <tr>\n",
       "      <th>max</th>\n",
       "      <td>75.311659</td>\n",
       "      <td>153.469221</td>\n",
       "      <td>154.051060</td>\n",
       "      <td>5.837559</td>\n",
       "      <td>65.949709</td>\n",
       "      <td>63.424046</td>\n",
       "      <td>45.053946</td>\n",
       "      <td>34.267792</td>\n",
       "      <td>66.936936</td>\n",
       "      <td>11.271939</td>\n",
       "      <td>...</td>\n",
       "      <td>378.752405</td>\n",
       "      <td>11.295740</td>\n",
       "      <td>19.414284</td>\n",
       "      <td>9.136848</td>\n",
       "      <td>112.390710</td>\n",
       "      <td>92.926545</td>\n",
       "      <td>76.120119</td>\n",
       "      <td>34.170189</td>\n",
       "      <td>4.490209</td>\n",
       "      <td>1.00000</td>\n",
       "    </tr>\n",
       "  </tbody>\n",
       "</table>\n",
       "<p>8 rows × 95 columns</p>\n",
       "</div>"
      ],
      "text/plain": [
       "                 x0            x1            x2            x3            x4  \\\n",
       "count  39989.000000  39990.000000  39992.000000  39991.000000  39992.000000   \n",
       "mean       3.446069     -7.788884      1.706058     -0.072972      0.123077   \n",
       "std       16.247547     37.014862     38.385085      1.503243     16.289994   \n",
       "min      -60.113902   -157.341119   -163.339956     -6.276969    -61.632319   \n",
       "25%       -7.602474    -32.740989    -24.141605     -1.088182    -10.896241   \n",
       "50%        3.448865     -8.019993      1.963977     -0.062389      0.104277   \n",
       "75%       14.266716     16.853383     27.516500      0.940612     11.078565   \n",
       "max       75.311659    153.469221    154.051060      5.837559     65.949709   \n",
       "\n",
       "                 x5            x6            x7            x8            x9  \\\n",
       "count  39994.000000  39990.000000  39991.000000  39994.000000  39993.000000   \n",
       "mean      -0.608624      0.035576     -0.052651     -2.909764     -0.024265   \n",
       "std       15.585122      9.041371      6.953403     13.149006      2.939895   \n",
       "min      -62.808995    -35.060656    -26.736717    -53.735586    -11.497395   \n",
       "25%      -11.183089     -6.090255     -4.747798    -11.722776     -2.004215   \n",
       "50%       -0.574567      0.046812     -0.037727     -2.941234     -0.054526   \n",
       "75%        9.955357      6.100903      4.637982      5.865014      1.955100   \n",
       "max       63.424046     45.053946     34.267792     66.936936     11.271939   \n",
       "\n",
       "          ...                x90           x91           x92           x94  \\\n",
       "count     ...       39993.000000  39996.000000  39993.000000  39992.000000   \n",
       "mean      ...          -9.002636     -0.001751     -0.005731     -0.014064   \n",
       "std       ...          96.666843      2.626840      4.605320      2.166326   \n",
       "min       ...        -422.711982    -10.179216    -20.044113     -9.396153   \n",
       "25%       ...         -73.209185     -1.777981     -3.113418     -1.491537   \n",
       "50%       ...          -6.884549     -0.019422     -0.007618     -0.012195   \n",
       "75%       ...          56.676810      1.761629      3.100729      1.450074   \n",
       "max       ...         378.752405     11.295740     19.414284      9.136848   \n",
       "\n",
       "                x95           x96           x97           x98           x99  \\\n",
       "count  39992.000000  39985.000000  39987.000000  39994.000000  39987.000000   \n",
       "mean      -0.095040     -0.807556     -2.514305      0.038370      0.043218   \n",
       "std       27.516763     23.836194     18.554646      8.450995      1.114444   \n",
       "min     -125.064735   -108.474714    -73.908741    -35.416133     -4.376614   \n",
       "25%      -18.465082    -16.826144    -15.026614     -5.645656     -0.710712   \n",
       "50%        0.099472     -0.651197     -2.509525      0.023663      0.042663   \n",
       "75%       18.514579     15.275896      9.889591      5.728781      0.797856   \n",
       "max      112.390710     92.926545     76.120119     34.170189      4.490209   \n",
       "\n",
       "                 y  \n",
       "count  40000.00000  \n",
       "mean       0.20360  \n",
       "std        0.40268  \n",
       "min        0.00000  \n",
       "25%        0.00000  \n",
       "50%        0.00000  \n",
       "75%        0.00000  \n",
       "max        1.00000  \n",
       "\n",
       "[8 rows x 95 columns]"
      ]
     },
     "execution_count": 87,
     "metadata": {},
     "output_type": "execute_result"
    }
   ],
   "source": [
    "df_train_raw.describe()"
   ]
  },
  {
   "cell_type": "code",
   "execution_count": 88,
   "metadata": {},
   "outputs": [
    {
     "data": {
      "text/html": [
       "<div>\n",
       "<style>\n",
       "    .dataframe thead tr:only-child th {\n",
       "        text-align: right;\n",
       "    }\n",
       "\n",
       "    .dataframe thead th {\n",
       "        text-align: left;\n",
       "    }\n",
       "\n",
       "    .dataframe tbody tr th {\n",
       "        vertical-align: top;\n",
       "    }\n",
       "</style>\n",
       "<table border=\"1\" class=\"dataframe\">\n",
       "  <thead>\n",
       "    <tr style=\"text-align: right;\">\n",
       "      <th></th>\n",
       "      <th>x0</th>\n",
       "      <th>x1</th>\n",
       "      <th>x2</th>\n",
       "      <th>x3</th>\n",
       "      <th>x4</th>\n",
       "      <th>x5</th>\n",
       "      <th>x6</th>\n",
       "      <th>x7</th>\n",
       "      <th>x8</th>\n",
       "      <th>x9</th>\n",
       "      <th>...</th>\n",
       "      <th>x91</th>\n",
       "      <th>x92</th>\n",
       "      <th>x93</th>\n",
       "      <th>x94</th>\n",
       "      <th>x95</th>\n",
       "      <th>x96</th>\n",
       "      <th>x97</th>\n",
       "      <th>x98</th>\n",
       "      <th>x99</th>\n",
       "      <th>y</th>\n",
       "    </tr>\n",
       "  </thead>\n",
       "  <tbody>\n",
       "    <tr>\n",
       "      <th>0</th>\n",
       "      <td>0.198560</td>\n",
       "      <td>74.425320</td>\n",
       "      <td>67.627745</td>\n",
       "      <td>-3.095111</td>\n",
       "      <td>-6.822327</td>\n",
       "      <td>19.048071</td>\n",
       "      <td>-0.362378</td>\n",
       "      <td>-10.699174</td>\n",
       "      <td>-22.699791</td>\n",
       "      <td>-1.561262</td>\n",
       "      <td>...</td>\n",
       "      <td>0.800948</td>\n",
       "      <td>1.553846</td>\n",
       "      <td>asia</td>\n",
       "      <td>-1.093926</td>\n",
       "      <td>16.202557</td>\n",
       "      <td>26.238591</td>\n",
       "      <td>-2.125570</td>\n",
       "      <td>9.644466</td>\n",
       "      <td>1.237667</td>\n",
       "      <td>0</td>\n",
       "    </tr>\n",
       "    <tr>\n",
       "      <th>1</th>\n",
       "      <td>-29.662621</td>\n",
       "      <td>24.320711</td>\n",
       "      <td>-48.205182</td>\n",
       "      <td>1.430339</td>\n",
       "      <td>-6.552206</td>\n",
       "      <td>4.263074</td>\n",
       "      <td>6.551412</td>\n",
       "      <td>4.265483</td>\n",
       "      <td>1.245095</td>\n",
       "      <td>2.246814</td>\n",
       "      <td>...</td>\n",
       "      <td>2.031707</td>\n",
       "      <td>7.544422</td>\n",
       "      <td>asia</td>\n",
       "      <td>-3.659541</td>\n",
       "      <td>29.674259</td>\n",
       "      <td>-15.141647</td>\n",
       "      <td>-36.030599</td>\n",
       "      <td>5.820376</td>\n",
       "      <td>1.952183</td>\n",
       "      <td>1</td>\n",
       "    </tr>\n",
       "    <tr>\n",
       "      <th>2</th>\n",
       "      <td>15.493759</td>\n",
       "      <td>-66.160459</td>\n",
       "      <td>50.512903</td>\n",
       "      <td>-2.265792</td>\n",
       "      <td>14.428578</td>\n",
       "      <td>2.509323</td>\n",
       "      <td>-6.707536</td>\n",
       "      <td>3.820842</td>\n",
       "      <td>-11.100833</td>\n",
       "      <td>-1.459825</td>\n",
       "      <td>...</td>\n",
       "      <td>-0.992474</td>\n",
       "      <td>1.385799</td>\n",
       "      <td>america</td>\n",
       "      <td>1.299144</td>\n",
       "      <td>33.018090</td>\n",
       "      <td>-19.914894</td>\n",
       "      <td>26.212736</td>\n",
       "      <td>2.372690</td>\n",
       "      <td>0.558988</td>\n",
       "      <td>1</td>\n",
       "    </tr>\n",
       "    <tr>\n",
       "      <th>3</th>\n",
       "      <td>-19.837651</td>\n",
       "      <td>33.210943</td>\n",
       "      <td>53.405563</td>\n",
       "      <td>1.079462</td>\n",
       "      <td>11.364251</td>\n",
       "      <td>-1.064581</td>\n",
       "      <td>9.308857</td>\n",
       "      <td>9.266076</td>\n",
       "      <td>14.552959</td>\n",
       "      <td>-2.012755</td>\n",
       "      <td>...</td>\n",
       "      <td>-1.157845</td>\n",
       "      <td>6.036804</td>\n",
       "      <td>asia</td>\n",
       "      <td>0.521396</td>\n",
       "      <td>9.664095</td>\n",
       "      <td>-27.197636</td>\n",
       "      <td>19.221130</td>\n",
       "      <td>13.382712</td>\n",
       "      <td>0.214462</td>\n",
       "      <td>0</td>\n",
       "    </tr>\n",
       "    <tr>\n",
       "      <th>4</th>\n",
       "      <td>11.896655</td>\n",
       "      <td>-26.717872</td>\n",
       "      <td>-17.758176</td>\n",
       "      <td>1.692017</td>\n",
       "      <td>21.553537</td>\n",
       "      <td>-5.852097</td>\n",
       "      <td>-0.857435</td>\n",
       "      <td>-2.186940</td>\n",
       "      <td>18.075272</td>\n",
       "      <td>-1.404618</td>\n",
       "      <td>...</td>\n",
       "      <td>-3.045511</td>\n",
       "      <td>-1.719337</td>\n",
       "      <td>asia</td>\n",
       "      <td>1.526071</td>\n",
       "      <td>-25.608326</td>\n",
       "      <td>33.383803</td>\n",
       "      <td>-5.703269</td>\n",
       "      <td>-11.023730</td>\n",
       "      <td>-1.191319</td>\n",
       "      <td>0</td>\n",
       "    </tr>\n",
       "  </tbody>\n",
       "</table>\n",
       "<p>5 rows × 101 columns</p>\n",
       "</div>"
      ],
      "text/plain": [
       "          x0         x1         x2        x3         x4         x5        x6  \\\n",
       "0   0.198560  74.425320  67.627745 -3.095111  -6.822327  19.048071 -0.362378   \n",
       "1 -29.662621  24.320711 -48.205182  1.430339  -6.552206   4.263074  6.551412   \n",
       "2  15.493759 -66.160459  50.512903 -2.265792  14.428578   2.509323 -6.707536   \n",
       "3 -19.837651  33.210943  53.405563  1.079462  11.364251  -1.064581  9.308857   \n",
       "4  11.896655 -26.717872 -17.758176  1.692017  21.553537  -5.852097 -0.857435   \n",
       "\n",
       "          x7         x8        x9 ...       x91       x92      x93       x94  \\\n",
       "0 -10.699174 -22.699791 -1.561262 ...  0.800948  1.553846     asia -1.093926   \n",
       "1   4.265483   1.245095  2.246814 ...  2.031707  7.544422     asia -3.659541   \n",
       "2   3.820842 -11.100833 -1.459825 ... -0.992474  1.385799  america  1.299144   \n",
       "3   9.266076  14.552959 -2.012755 ... -1.157845  6.036804     asia  0.521396   \n",
       "4  -2.186940  18.075272 -1.404618 ... -3.045511 -1.719337     asia  1.526071   \n",
       "\n",
       "         x95        x96        x97        x98       x99  y  \n",
       "0  16.202557  26.238591  -2.125570   9.644466  1.237667  0  \n",
       "1  29.674259 -15.141647 -36.030599   5.820376  1.952183  1  \n",
       "2  33.018090 -19.914894  26.212736   2.372690  0.558988  1  \n",
       "3   9.664095 -27.197636  19.221130  13.382712  0.214462  0  \n",
       "4 -25.608326  33.383803  -5.703269 -11.023730 -1.191319  0  \n",
       "\n",
       "[5 rows x 101 columns]"
      ]
     },
     "execution_count": 88,
     "metadata": {},
     "output_type": "execute_result"
    }
   ],
   "source": [
    "df_train_raw.head()"
   ]
  },
  {
   "cell_type": "code",
   "execution_count": 222,
   "metadata": {},
   "outputs": [
    {
     "data": {
      "text/html": [
       "<div>\n",
       "<style>\n",
       "    .dataframe thead tr:only-child th {\n",
       "        text-align: right;\n",
       "    }\n",
       "\n",
       "    .dataframe thead th {\n",
       "        text-align: left;\n",
       "    }\n",
       "\n",
       "    .dataframe tbody tr th {\n",
       "        vertical-align: top;\n",
       "    }\n",
       "</style>\n",
       "<table border=\"1\" class=\"dataframe\">\n",
       "  <thead>\n",
       "    <tr style=\"text-align: right;\">\n",
       "      <th></th>\n",
       "      <th>x0</th>\n",
       "      <th>x1</th>\n",
       "      <th>x2</th>\n",
       "      <th>x3</th>\n",
       "      <th>x4</th>\n",
       "      <th>x5</th>\n",
       "      <th>x6</th>\n",
       "      <th>x7</th>\n",
       "      <th>x8</th>\n",
       "      <th>x9</th>\n",
       "      <th>...</th>\n",
       "      <th>x90</th>\n",
       "      <th>x91</th>\n",
       "      <th>x92</th>\n",
       "      <th>x93</th>\n",
       "      <th>x94</th>\n",
       "      <th>x95</th>\n",
       "      <th>x96</th>\n",
       "      <th>x97</th>\n",
       "      <th>x98</th>\n",
       "      <th>x99</th>\n",
       "    </tr>\n",
       "  </thead>\n",
       "  <tbody>\n",
       "    <tr>\n",
       "      <th>0</th>\n",
       "      <td>6.625366</td>\n",
       "      <td>54.479467</td>\n",
       "      <td>15.285444</td>\n",
       "      <td>-0.794648</td>\n",
       "      <td>22.498346</td>\n",
       "      <td>-29.212209</td>\n",
       "      <td>1.435134</td>\n",
       "      <td>-4.551934</td>\n",
       "      <td>5.930404</td>\n",
       "      <td>-3.319388</td>\n",
       "      <td>...</td>\n",
       "      <td>-18.919238</td>\n",
       "      <td>1.774657</td>\n",
       "      <td>2.216406</td>\n",
       "      <td>america</td>\n",
       "      <td>0.987554</td>\n",
       "      <td>34.396477</td>\n",
       "      <td>-55.883515</td>\n",
       "      <td>13.739194</td>\n",
       "      <td>2.824056</td>\n",
       "      <td>1.141799</td>\n",
       "    </tr>\n",
       "    <tr>\n",
       "      <th>1</th>\n",
       "      <td>3.796927</td>\n",
       "      <td>-20.244923</td>\n",
       "      <td>-18.084196</td>\n",
       "      <td>-1.113454</td>\n",
       "      <td>-3.551728</td>\n",
       "      <td>-4.025589</td>\n",
       "      <td>1.971885</td>\n",
       "      <td>-1.965186</td>\n",
       "      <td>13.210722</td>\n",
       "      <td>-4.262240</td>\n",
       "      <td>...</td>\n",
       "      <td>33.878264</td>\n",
       "      <td>-1.027421</td>\n",
       "      <td>7.924785</td>\n",
       "      <td>asia</td>\n",
       "      <td>2.615088</td>\n",
       "      <td>15.038461</td>\n",
       "      <td>-13.110477</td>\n",
       "      <td>-13.018951</td>\n",
       "      <td>-5.069025</td>\n",
       "      <td>0.568757</td>\n",
       "    </tr>\n",
       "    <tr>\n",
       "      <th>2</th>\n",
       "      <td>31.875080</td>\n",
       "      <td>-61.467354</td>\n",
       "      <td>14.943580</td>\n",
       "      <td>0.979055</td>\n",
       "      <td>6.796937</td>\n",
       "      <td>-29.708041</td>\n",
       "      <td>4.778812</td>\n",
       "      <td>-2.682217</td>\n",
       "      <td>-17.122526</td>\n",
       "      <td>0.903299</td>\n",
       "      <td>...</td>\n",
       "      <td>-28.553940</td>\n",
       "      <td>1.755786</td>\n",
       "      <td>-0.325669</td>\n",
       "      <td>asia</td>\n",
       "      <td>-0.986222</td>\n",
       "      <td>-1.769850</td>\n",
       "      <td>-7.140415</td>\n",
       "      <td>0.791425</td>\n",
       "      <td>-3.224037</td>\n",
       "      <td>-0.816682</td>\n",
       "    </tr>\n",
       "    <tr>\n",
       "      <th>3</th>\n",
       "      <td>15.266588</td>\n",
       "      <td>-18.454831</td>\n",
       "      <td>1.105534</td>\n",
       "      <td>-2.718771</td>\n",
       "      <td>-5.511702</td>\n",
       "      <td>2.252314</td>\n",
       "      <td>-8.017649</td>\n",
       "      <td>3.635776</td>\n",
       "      <td>-13.024884</td>\n",
       "      <td>-1.751722</td>\n",
       "      <td>...</td>\n",
       "      <td>14.380384</td>\n",
       "      <td>-0.756253</td>\n",
       "      <td>5.930171</td>\n",
       "      <td>asia</td>\n",
       "      <td>-2.199690</td>\n",
       "      <td>-16.389740</td>\n",
       "      <td>-2.564346</td>\n",
       "      <td>-16.716012</td>\n",
       "      <td>5.559949</td>\n",
       "      <td>0.603007</td>\n",
       "    </tr>\n",
       "    <tr>\n",
       "      <th>4</th>\n",
       "      <td>-17.616761</td>\n",
       "      <td>15.810515</td>\n",
       "      <td>-17.972025</td>\n",
       "      <td>-1.995724</td>\n",
       "      <td>-23.112552</td>\n",
       "      <td>-15.899861</td>\n",
       "      <td>-17.054154</td>\n",
       "      <td>4.097427</td>\n",
       "      <td>-7.755402</td>\n",
       "      <td>-2.553410</td>\n",
       "      <td>...</td>\n",
       "      <td>-22.999896</td>\n",
       "      <td>-1.364063</td>\n",
       "      <td>1.207973</td>\n",
       "      <td>asia</td>\n",
       "      <td>1.694508</td>\n",
       "      <td>-4.086831</td>\n",
       "      <td>-28.709156</td>\n",
       "      <td>23.003355</td>\n",
       "      <td>-4.358594</td>\n",
       "      <td>1.929231</td>\n",
       "    </tr>\n",
       "  </tbody>\n",
       "</table>\n",
       "<p>5 rows × 100 columns</p>\n",
       "</div>"
      ],
      "text/plain": [
       "          x0         x1         x2        x3         x4         x5         x6  \\\n",
       "0   6.625366  54.479467  15.285444 -0.794648  22.498346 -29.212209   1.435134   \n",
       "1   3.796927 -20.244923 -18.084196 -1.113454  -3.551728  -4.025589   1.971885   \n",
       "2  31.875080 -61.467354  14.943580  0.979055   6.796937 -29.708041   4.778812   \n",
       "3  15.266588 -18.454831   1.105534 -2.718771  -5.511702   2.252314  -8.017649   \n",
       "4 -17.616761  15.810515 -17.972025 -1.995724 -23.112552 -15.899861 -17.054154   \n",
       "\n",
       "         x7         x8        x9    ...           x90       x91       x92  \\\n",
       "0 -4.551934   5.930404 -3.319388    ...    -18.919238  1.774657  2.216406   \n",
       "1 -1.965186  13.210722 -4.262240    ...     33.878264 -1.027421  7.924785   \n",
       "2 -2.682217 -17.122526  0.903299    ...    -28.553940  1.755786 -0.325669   \n",
       "3  3.635776 -13.024884 -1.751722    ...     14.380384 -0.756253  5.930171   \n",
       "4  4.097427  -7.755402 -2.553410    ...    -22.999896 -1.364063  1.207973   \n",
       "\n",
       "       x93       x94        x95        x96        x97       x98       x99  \n",
       "0  america  0.987554  34.396477 -55.883515  13.739194  2.824056  1.141799  \n",
       "1     asia  2.615088  15.038461 -13.110477 -13.018951 -5.069025  0.568757  \n",
       "2     asia -0.986222  -1.769850  -7.140415   0.791425 -3.224037 -0.816682  \n",
       "3     asia -2.199690 -16.389740  -2.564346 -16.716012  5.559949  0.603007  \n",
       "4     asia  1.694508  -4.086831 -28.709156  23.003355 -4.358594  1.929231  \n",
       "\n",
       "[5 rows x 100 columns]"
      ]
     },
     "execution_count": 222,
     "metadata": {},
     "output_type": "execute_result"
    }
   ],
   "source": [
    "df_test_raw.head() # OBSERVED that labels column 'y' is not there in test data"
   ]
  },
  {
   "cell_type": "code",
   "execution_count": 89,
   "metadata": {},
   "outputs": [
    {
     "data": {
      "image/png": "[encoded data removed]",
      "text/plain": [
       "<matplotlib.figure.Figure at 0x1c1ea74c10>"
      ]
     },
     "metadata": {},
     "output_type": "display_data"
    }
   ],
   "source": [
    "axes = df_train_raw.iloc[:,0:16].hist(figsize=(16,16))"
   ]
  },
  {
   "cell_type": "code",
   "execution_count": 10,
   "metadata": {},
   "outputs": [
    {
     "data": {
      "image/png": "[encoded data removed]",
      "text/plain": [
       "<matplotlib.figure.Figure at 0x1c210102d0>"
      ]
     },
     "metadata": {},
     "output_type": "display_data"
    }
   ],
   "source": [
    "axes2 = df_train_raw.iloc[:,16:32].hist(figsize=(16,16))"
   ]
  },
  {
   "cell_type": "markdown",
   "metadata": {},
   "source": [
    "# Study the categorical features\n",
    "<hr>\n",
    "<li> Notice that some entries are missing in evey categorical feature in both train and test data</li>"
   ]
  },
  {
   "cell_type": "code",
   "execution_count": 223,
   "metadata": {
    "collapsed": true
   },
   "outputs": [],
   "source": [
    "# Find Categorical Features\n",
    "df_train_cat = df_train_raw.loc[:, df_train.dtypes == object]\n",
    "df_test_cat = df_test_raw.loc[:, df_train.dtypes == object]"
   ]
  },
  {
   "cell_type": "code",
   "execution_count": 224,
   "metadata": {},
   "outputs": [
    {
     "name": "stdout",
     "output_type": "stream",
     "text": [
      "<class 'pandas.core.frame.DataFrame'>\n",
      "RangeIndex: 40000 entries, 0 to 39999\n",
      "Data columns (total 6 columns):\n",
      "x34    39993 non-null object\n",
      "x35    39987 non-null object\n",
      "x41    39996 non-null object\n",
      "x45    39995 non-null object\n",
      "x68    39992 non-null object\n",
      "x93    39993 non-null object\n",
      "dtypes: object(6)\n",
      "memory usage: 1.8+ MB\n"
     ]
    }
   ],
   "source": [
    "df_train_cat.info() "
   ]
  },
  {
   "cell_type": "code",
   "execution_count": 225,
   "metadata": {},
   "outputs": [
    {
     "name": "stdout",
     "output_type": "stream",
     "text": [
      "<class 'pandas.core.frame.DataFrame'>\n",
      "RangeIndex: 10000 entries, 0 to 9999\n",
      "Data columns (total 6 columns):\n",
      "x34    9998 non-null object\n",
      "x35    10000 non-null object\n",
      "x41    9998 non-null object\n",
      "x45    9998 non-null object\n",
      "x68    9997 non-null object\n",
      "x93    9999 non-null object\n",
      "dtypes: object(6)\n",
      "memory usage: 468.8+ KB\n"
     ]
    }
   ],
   "source": [
    "df_test_cat.info()"
   ]
  },
  {
   "cell_type": "code",
   "execution_count": 226,
   "metadata": {},
   "outputs": [
    {
     "data": {
      "text/html": [
       "<div>\n",
       "<style>\n",
       "    .dataframe thead tr:only-child th {\n",
       "        text-align: right;\n",
       "    }\n",
       "\n",
       "    .dataframe thead th {\n",
       "        text-align: left;\n",
       "    }\n",
       "\n",
       "    .dataframe tbody tr th {\n",
       "        vertical-align: top;\n",
       "    }\n",
       "</style>\n",
       "<table border=\"1\" class=\"dataframe\">\n",
       "  <thead>\n",
       "    <tr style=\"text-align: right;\">\n",
       "      <th></th>\n",
       "      <th>x34</th>\n",
       "      <th>x35</th>\n",
       "      <th>x41</th>\n",
       "      <th>x45</th>\n",
       "      <th>x68</th>\n",
       "      <th>x93</th>\n",
       "    </tr>\n",
       "  </thead>\n",
       "  <tbody>\n",
       "    <tr>\n",
       "      <th>0</th>\n",
       "      <td>volkswagon</td>\n",
       "      <td>wed</td>\n",
       "      <td>$2475.46</td>\n",
       "      <td>-0.01%</td>\n",
       "      <td>Aug</td>\n",
       "      <td>america</td>\n",
       "    </tr>\n",
       "    <tr>\n",
       "      <th>1</th>\n",
       "      <td>bmw</td>\n",
       "      <td>thurday</td>\n",
       "      <td>$-1109.1</td>\n",
       "      <td>0.0%</td>\n",
       "      <td>Jun</td>\n",
       "      <td>asia</td>\n",
       "    </tr>\n",
       "    <tr>\n",
       "      <th>2</th>\n",
       "      <td>volkswagon</td>\n",
       "      <td>thurday</td>\n",
       "      <td>$-187.7</td>\n",
       "      <td>-0.0%</td>\n",
       "      <td>sept.</td>\n",
       "      <td>asia</td>\n",
       "    </tr>\n",
       "    <tr>\n",
       "      <th>3</th>\n",
       "      <td>Toyota</td>\n",
       "      <td>wednesday</td>\n",
       "      <td>$525.65</td>\n",
       "      <td>0.01%</td>\n",
       "      <td>July</td>\n",
       "      <td>asia</td>\n",
       "    </tr>\n",
       "    <tr>\n",
       "      <th>4</th>\n",
       "      <td>Toyota</td>\n",
       "      <td>thurday</td>\n",
       "      <td>$-1113.53</td>\n",
       "      <td>0.0%</td>\n",
       "      <td>Apr</td>\n",
       "      <td>asia</td>\n",
       "    </tr>\n",
       "  </tbody>\n",
       "</table>\n",
       "</div>"
      ],
      "text/plain": [
       "          x34        x35        x41     x45    x68      x93\n",
       "0  volkswagon        wed   $2475.46  -0.01%    Aug  america\n",
       "1         bmw    thurday   $-1109.1    0.0%    Jun     asia\n",
       "2  volkswagon    thurday    $-187.7   -0.0%  sept.     asia\n",
       "3      Toyota  wednesday    $525.65   0.01%   July     asia\n",
       "4      Toyota    thurday  $-1113.53    0.0%    Apr     asia"
      ]
     },
     "execution_count": 226,
     "metadata": {},
     "output_type": "execute_result"
    }
   ],
   "source": [
    "#Observe Categorical Variables\n",
    "df_test_cat.head()"
   ]
  },
  {
   "cell_type": "code",
   "execution_count": 227,
   "metadata": {},
   "outputs": [
    {
     "data": {
      "text/html": [
       "<div>\n",
       "<style>\n",
       "    .dataframe thead tr:only-child th {\n",
       "        text-align: right;\n",
       "    }\n",
       "\n",
       "    .dataframe thead th {\n",
       "        text-align: left;\n",
       "    }\n",
       "\n",
       "    .dataframe tbody tr th {\n",
       "        vertical-align: top;\n",
       "    }\n",
       "</style>\n",
       "<table border=\"1\" class=\"dataframe\">\n",
       "  <thead>\n",
       "    <tr style=\"text-align: right;\">\n",
       "      <th></th>\n",
       "      <th>x34</th>\n",
       "      <th>x35</th>\n",
       "      <th>x41</th>\n",
       "      <th>x45</th>\n",
       "      <th>x68</th>\n",
       "      <th>x93</th>\n",
       "    </tr>\n",
       "  </thead>\n",
       "  <tbody>\n",
       "    <tr>\n",
       "      <th>0</th>\n",
       "      <td>Toyota</td>\n",
       "      <td>wed</td>\n",
       "      <td>$449.48</td>\n",
       "      <td>0.0%</td>\n",
       "      <td>Jun</td>\n",
       "      <td>asia</td>\n",
       "    </tr>\n",
       "    <tr>\n",
       "      <th>1</th>\n",
       "      <td>Honda</td>\n",
       "      <td>wed</td>\n",
       "      <td>$-525.06</td>\n",
       "      <td>0.0%</td>\n",
       "      <td>sept.</td>\n",
       "      <td>asia</td>\n",
       "    </tr>\n",
       "    <tr>\n",
       "      <th>2</th>\n",
       "      <td>bmw</td>\n",
       "      <td>wed</td>\n",
       "      <td>$-599.5</td>\n",
       "      <td>0.01%</td>\n",
       "      <td>Oct</td>\n",
       "      <td>america</td>\n",
       "    </tr>\n",
       "    <tr>\n",
       "      <th>3</th>\n",
       "      <td>volkswagon</td>\n",
       "      <td>wed</td>\n",
       "      <td>$-220.71</td>\n",
       "      <td>-0.0%</td>\n",
       "      <td>Jun</td>\n",
       "      <td>asia</td>\n",
       "    </tr>\n",
       "    <tr>\n",
       "      <th>4</th>\n",
       "      <td>volkswagon</td>\n",
       "      <td>thurday</td>\n",
       "      <td>$-1405.59</td>\n",
       "      <td>-0.0%</td>\n",
       "      <td>July</td>\n",
       "      <td>asia</td>\n",
       "    </tr>\n",
       "  </tbody>\n",
       "</table>\n",
       "</div>"
      ],
      "text/plain": [
       "          x34      x35        x41    x45    x68      x93\n",
       "0      Toyota      wed    $449.48   0.0%    Jun     asia\n",
       "1       Honda      wed   $-525.06   0.0%  sept.     asia\n",
       "2         bmw      wed    $-599.5  0.01%    Oct  america\n",
       "3  volkswagon      wed   $-220.71  -0.0%    Jun     asia\n",
       "4  volkswagon  thurday  $-1405.59  -0.0%   July     asia"
      ]
     },
     "execution_count": 227,
     "metadata": {},
     "output_type": "execute_result"
    }
   ],
   "source": [
    "df_train_cat.head()"
   ]
  },
  {
   "cell_type": "markdown",
   "metadata": {},
   "source": [
    "## Observations\n",
    "<hr>\n",
    "<li> Columns x41 is not actually categorical: Remove the '\\$' and observe again</li>\n",
    "<li> Columns x45 is not actually categorical:Remove the '%' and observe again</li>\n",
    "<li>Throughly go through all categoracal variables looking for  mismatch, trailing space, duplicates</li>"
   ]
  },
  {
   "cell_type": "code",
   "execution_count": 9,
   "metadata": {},
   "outputs": [
    {
     "name": "stdout",
     "output_type": "stream",
     "text": [
      "['Toyota' 'Honda' 'bmw' 'volkswagon' 'tesla' 'nissan' 'chrystler' 'ford'\n",
      " 'mercades' 'chevrolet' nan]\n"
     ]
    }
   ],
   "source": [
    "print pd.unique(df_train_raw[\"x34\"])"
   ]
  },
  {
   "cell_type": "code",
   "execution_count": 228,
   "metadata": {},
   "outputs": [
    {
     "name": "stdout",
     "output_type": "stream",
     "text": [
      "Test.x34:\n",
      "set([nan, 'mercades', 'tesla', 'chevrolet', 'nissan', 'Honda', 'Toyota', 'ford', 'chrystler', 'volkswagon', 'bmw'])\n",
      "Train.x34:\n",
      "set([nan, 'mercades', 'tesla', 'chevrolet', 'nissan', 'Honda', 'Toyota', 'ford', 'bmw', 'volkswagon', 'chrystler'])\n",
      "\n",
      " Test.x35:\n",
      "set(['monday', 'wed', 'thurday', 'friday', 'thur', 'wednesday', 'fri', 'tuesday'])\n",
      "Train.x35:\n",
      "set([nan, 'monday', 'wed', 'thurday', 'friday', 'thur', 'wednesday', 'fri', 'tuesday'])\n",
      "\n",
      " Test.x68:\n",
      "set([nan, 'sept.', 'Feb', 'Aug', 'Mar', 'Apr', 'January', 'Jun', 'Dev', 'May', 'Nov', 'July', 'Oct'])\n",
      "Train.x68:\n",
      "set([nan, 'sept.', 'Feb', 'Aug', 'Apr', 'January', 'Jun', 'Nov', 'May', 'Mar', 'Dev', 'July', 'Oct'])\n",
      "\n",
      " Test.x93:\n",
      "set([nan, 'euorpe', 'america', 'asia'])\n",
      "Train.x93:\n",
      "set([nan, 'euorpe', 'america', 'asia'])\n"
     ]
    }
   ],
   "source": [
    "# Let us print the unique values of all categories in the data\n",
    "print(\"Test.x34:\") \n",
    "print( set(df_test_cat.x34.values))\n",
    "print(\"Train.x34:\") \n",
    "print( set(df_train_cat.x34.values))\n",
    "print(\"\\n Test.x35:\") \n",
    "print( set(df_test_cat.x35.values))\n",
    "print(\"Train.x35:\") \n",
    "print( set(df_train_cat.x35.values))\n",
    "print(\"\\n Test.x68:\") \n",
    "print( set(df_test_cat.x68.values))\n",
    "print(\"Train.x68:\") \n",
    "print( set(df_train_cat.x68.values))\n",
    "print(\"\\n Test.x93:\") \n",
    "print(set(df_test_cat.x93.values))\n",
    "print(\"Train.x93:\") \n",
    "print( set(df_train_cat.x93.values))"
   ]
  },
  {
   "cell_type": "markdown",
   "metadata": {},
   "source": [
    "## Observations from different category Names\n",
    "<hr>\n",
    "<li>Capitalization issues: Make all the names start lowercase.</li>\n",
    "<li>Weekdays mismatch: Make them all abbreviation words (wednesday -> wed) in lowercase.</li>\n",
    "<li>Month Names formatting: Use standard month name abbreviation, lowecase.</li>"
   ]
  },
  {
   "cell_type": "code",
   "execution_count": 90,
   "metadata": {
    "collapsed": true
   },
   "outputs": [],
   "source": [
    "# MAKE A COPY of the raw data for making changes\n",
    "df_train2 =df_train_raw.copy()\n",
    "df_test2 =df_test_raw.copy()"
   ]
  },
  {
   "cell_type": "code",
   "execution_count": 91,
   "metadata": {},
   "outputs": [
    {
     "data": {
      "text/plain": [
       "volkswagon    12455\n",
       "toyota        11079\n",
       "bmw            7282\n",
       "honda          5179\n",
       "tesla          2248\n",
       "chrystler      1219\n",
       "nissan          334\n",
       "ford            159\n",
       "mercades         27\n",
       "chevrolet        11\n",
       "NaN               7\n",
       "Name: x34, dtype: int64"
      ]
     },
     "execution_count": 91,
     "metadata": {},
     "output_type": "execute_result"
    }
   ],
   "source": [
    "df_train2[\"x34\"].str.lower().value_counts(dropna=False)"
   ]
  },
  {
   "cell_type": "code",
   "execution_count": 92,
   "metadata": {
    "collapsed": true
   },
   "outputs": [],
   "source": [
    "# Standardizing all strings to lawer case\n",
    "df_train2[\"x34\"] = df_train2[\"x34\"].str.lower()\n",
    "df_train2[\"x68\"] = df_train2[\"x68\"].str.lower()\n",
    "df_test2[\"x34\"] = df_test2[\"x34\"].str.lower()\n",
    "df_test2[\"x68\"] = df_test2[\"x68\"].str.lower()"
   ]
  },
  {
   "cell_type": "code",
   "execution_count": 67,
   "metadata": {
    "collapsed": true
   },
   "outputs": [],
   "source": []
  },
  {
   "cell_type": "code",
   "execution_count": 93,
   "metadata": {},
   "outputs": [],
   "source": [
    "# Standardizing all day names to their abbreviated form\n",
    "\n",
    "df_train2.replace({'wednesday':'wed', 'thurday':'thur', 'friday':'fri',\n",
    "                   'monday':'mon', 'tuesday':'tues' },\n",
    "                  inplace=True)"
   ]
  },
  {
   "cell_type": "code",
   "execution_count": 94,
   "metadata": {},
   "outputs": [],
   "source": [
    "df_test2.replace({'wednesday':'wed', \n",
    "                  'thurday':'thur', \n",
    "                  'friday':'fri',\n",
    "                  'monday':'mon', \n",
    "                  'tuesday':'tues' },\n",
    "                 inplace=True)"
   ]
  },
  {
   "cell_type": "code",
   "execution_count": 95,
   "metadata": {},
   "outputs": [],
   "source": [
    "df_train2.replace({'january':'jan', \n",
    "                   'sept.':'sept', \n",
    "                   'dev':'dec'},\n",
    "                  inplace=True)\n"
   ]
  },
  {
   "cell_type": "code",
   "execution_count": 96,
   "metadata": {},
   "outputs": [],
   "source": [
    "df_test2.replace({'january':'jan', \n",
    "                   'sept.':'sept', \n",
    "                   'dev':'dec'},\n",
    "                  inplace=True)"
   ]
  },
  {
   "cell_type": "code",
   "execution_count": 97,
   "metadata": {},
   "outputs": [
    {
     "name": "stdout",
     "output_type": "stream",
     "text": [
      "Test.x34:\n",
      "set([nan, 'mercades', 'tesla', 'chevrolet', 'nissan', 'honda', 'toyota', 'ford', 'chrystler', 'volkswagon', 'bmw'])\n",
      "Train.x34:\n",
      "set([nan, 'mercades', 'tesla', 'chevrolet', 'nissan', 'honda', 'toyota', 'ford', 'bmw', 'volkswagon', 'chrystler'])\n",
      "\n",
      " Test.x35:\n",
      "set(['tues', 'fri', 'thur', 'mon', 'wed'])\n",
      "Train.x35:\n",
      "set([nan, 'wed', 'fri', 'tues', 'thur', 'mon'])\n",
      "\n",
      " Test.x68:\n",
      "set([nan, 'mar', 'nov', 'aug', 'apr', 'jun', 'jan', 'may', 'feb', 'july', 'dec', 'sept', 'oct'])\n",
      "Train.x68:\n",
      "set([nan, 'mar', 'nov', 'aug', 'apr', 'jun', 'jan', 'may', 'feb', 'july', 'dec', 'sept', 'oct'])\n",
      "\n",
      " Test.x93:\n",
      "set([nan, 'euorpe', 'america', 'asia'])\n",
      "Train.x93:\n",
      "set([nan, 'euorpe', 'america', 'asia'])\n"
     ]
    }
   ],
   "source": [
    "# AFTER CHANGES TO VERIFY print the unique values of all categories in the data\n",
    "print(\"Test.x34:\") \n",
    "print( set(df_test2.x34.values))\n",
    "print(\"Train.x34:\") \n",
    "print( set(df_train2.x34.values))\n",
    "print(\"\\n Test.x35:\") \n",
    "print( set(df_test2.x35.values))\n",
    "print(\"Train.x35:\") \n",
    "print( set(df_train2.x35.values))\n",
    "print(\"\\n Test.x68:\") \n",
    "print( set(df_test2.x68.values))\n",
    "print(\"Train.x68:\") \n",
    "print( set(df_train2.x68.values))\n",
    "print(\"\\n Test.x93:\") \n",
    "print(set(df_test2.x93.values))\n",
    "print(\"Train.x93:\") \n",
    "print( set(df_train2.x93.values))"
   ]
  },
  {
   "cell_type": "code",
   "execution_count": 98,
   "metadata": {
    "collapsed": true
   },
   "outputs": [],
   "source": [
    "# Find Categorical Features\n",
    "df_train2_cat = df_train2.loc[:, df_train2.dtypes == object]\n",
    "df_test2_cat = df_test2.loc[:, df_train2.dtypes == object]"
   ]
  },
  {
   "cell_type": "code",
   "execution_count": 99,
   "metadata": {},
   "outputs": [
    {
     "data": {
      "image/png": "[encoded data removed]",
      "text/plain": [
       "<matplotlib.figure.Figure at 0x1c22402c50>"
      ]
     },
     "metadata": {},
     "output_type": "display_data"
    }
   ],
   "source": [
    "#DISTRIBUTION of categorical variables\n",
    "plt.figure(figsize=(16,12))\n",
    "\n",
    "plt.subplot(2,2,1)\n",
    "df_train2[\"x34\"].value_counts().plot(kind = \"bar\")\n",
    "\n",
    "plt.subplot(2,2,2)\n",
    "df_train2[\"x35\"].value_counts().plot(kind = \"bar\")\n",
    "\n",
    "plt.subplot(2,2,3)\n",
    "df_train2[\"x68\"].value_counts().plot(kind = \"bar\")\n",
    "\n",
    "plt.subplot(2,2,4)\n",
    "df_train2[\"x93\"].value_counts().plot(kind = \"bar\")\n",
    "plt.show()"
   ]
  },
  {
   "cell_type": "code",
   "execution_count": 100,
   "metadata": {},
   "outputs": [
    {
     "data": {
      "image/png": "[encoded data removed]",
      "text/plain": [
       "<matplotlib.figure.Figure at 0x1c20412790>"
      ]
     },
     "metadata": {},
     "output_type": "display_data"
    }
   ],
   "source": [
    "#DISTRIBUTION of categorical variables in the test set\n",
    "plt.figure(figsize=(16,12))\n",
    "\n",
    "plt.subplot(2,2,1)\n",
    "df_test2[\"x34\"].value_counts().plot(kind = \"bar\")\n",
    "\n",
    "plt.subplot(2,2,2)\n",
    "df_test2[\"x35\"].value_counts().plot(kind = \"bar\")\n",
    "\n",
    "plt.subplot(2,2,3)\n",
    "df_test2[\"x68\"].value_counts().plot(kind = \"bar\")\n",
    "\n",
    "plt.subplot(2,2,4)\n",
    "df_test2[\"x93\"].value_counts().plot(kind = \"bar\")\n",
    "plt.show()"
   ]
  },
  {
   "cell_type": "code",
   "execution_count": 112,
   "metadata": {},
   "outputs": [
    {
     "data": {
      "text/plain": [
       "<matplotlib.axes._subplots.AxesSubplot at 0x1c209b4e90>"
      ]
     },
     "execution_count": 112,
     "metadata": {},
     "output_type": "execute_result"
    },
    {
     "data": {
      "image/png": "[encoded data removed]",
      "text/plain": [
       "<matplotlib.figure.Figure at 0x1c218a9e50>"
      ]
     },
     "metadata": {},
     "output_type": "display_data"
    }
   ],
   "source": [
    "# Class-disribution\n",
    "df_train2.y.value_counts().plot(kind='bar')"
   ]
  },
  {
   "cell_type": "markdown",
   "metadata": {},
   "source": [
    "## Missing values in the categorical variables"
   ]
  },
  {
   "cell_type": "code",
   "execution_count": 240,
   "metadata": {},
   "outputs": [
    {
     "data": {
      "text/plain": [
       "volkswagon    12455\n",
       "toyota        11079\n",
       "bmw            7282\n",
       "honda          5179\n",
       "tesla          2248\n",
       "chrystler      1219\n",
       "nissan          334\n",
       "ford            159\n",
       "mercades         27\n",
       "chevrolet        11\n",
       "NaN               7\n",
       "Name: x34, dtype: int64"
      ]
     },
     "execution_count": 240,
     "metadata": {},
     "output_type": "execute_result"
    }
   ],
   "source": [
    "df_train2_cat.x34.value_counts(dropna=False)"
   ]
  },
  {
   "cell_type": "code",
   "execution_count": 241,
   "metadata": {},
   "outputs": [
    {
     "data": {
      "text/plain": [
       "wed     20713\n",
       "thur    17758\n",
       "tues      894\n",
       "fri       561\n",
       "mon        61\n",
       "NaN        13\n",
       "Name: x35, dtype: int64"
      ]
     },
     "execution_count": 241,
     "metadata": {},
     "output_type": "execute_result"
    }
   ],
   "source": [
    "df_train2_cat.x35.value_counts(dropna=False)"
   ]
  },
  {
   "cell_type": "code",
   "execution_count": 242,
   "metadata": {},
   "outputs": [
    {
     "data": {
      "text/plain": [
       "july    11080\n",
       "jun      9261\n",
       "aug      8211\n",
       "may      4769\n",
       "sept     3485\n",
       "apr      1614\n",
       "oct       904\n",
       "mar       431\n",
       "nov       151\n",
       "feb        56\n",
       "dec        20\n",
       "jan        10\n",
       "NaN         8\n",
       "Name: x68, dtype: int64"
      ]
     },
     "execution_count": 242,
     "metadata": {},
     "output_type": "execute_result"
    }
   ],
   "source": [
    "df_train2_cat.x68.value_counts(dropna=False)"
   ]
  },
  {
   "cell_type": "code",
   "execution_count": 243,
   "metadata": {},
   "outputs": [
    {
     "data": {
      "text/plain": [
       "asia       35416\n",
       "america     3131\n",
       "euorpe      1446\n",
       "NaN            7\n",
       "Name: x93, dtype: int64"
      ]
     },
     "execution_count": 243,
     "metadata": {},
     "output_type": "execute_result"
    }
   ],
   "source": [
    "df_train2_cat.x93.value_counts(dropna=False)"
   ]
  },
  {
   "cell_type": "markdown",
   "metadata": {},
   "source": [
    "## Missing entries in categorical variables\n",
    "<hr>\n",
    "<ul>\n",
    "<li>There are 44 rows in the categorical variables that have missing entries.</li>\n",
    "<li>There are 818 rows (around 0.5%) in total that have missing entries.</li>\n",
    "</ul>"
   ]
  },
  {
   "cell_type": "code",
   "execution_count": 102,
   "metadata": {},
   "outputs": [
    {
     "data": {
      "text/plain": [
       "(44, 6)"
      ]
     },
     "execution_count": 102,
     "metadata": {},
     "output_type": "execute_result"
    }
   ],
   "source": [
    "df_train2_cat[df_train2_cat.isnull().any(axis=1)].shape"
   ]
  },
  {
   "cell_type": "code",
   "execution_count": 103,
   "metadata": {},
   "outputs": [
    {
     "data": {
      "text/plain": [
       "(818, 101)"
      ]
     },
     "execution_count": 103,
     "metadata": {},
     "output_type": "execute_result"
    }
   ],
   "source": [
    "# Rows with one or more NaN: There 818 rows, around 0.5% that has null values\n",
    "df_train2[df_train2.isnull().any(axis=1)].shape "
   ]
  },
  {
   "cell_type": "code",
   "execution_count": 104,
   "metadata": {
    "collapsed": true
   },
   "outputs": [],
   "source": [
    "# COPY df_train2, df_test2 for safekeep again\n",
    "df_train3 = df_train2.copy()\n",
    "df_test3 = df_test2.copy()"
   ]
  },
  {
   "cell_type": "code",
   "execution_count": 248,
   "metadata": {
    "collapsed": true
   },
   "outputs": [],
   "source": [
    "# SAVING the progress so far\n",
    "#df_train2.to_csv(\"./data/df_train2_120517.csv\")\n",
    "#df_test2.to_csv(\"./data/df_test2_120517.csv\")"
   ]
  },
  {
   "cell_type": "code",
   "execution_count": 105,
   "metadata": {},
   "outputs": [],
   "source": [
    "# REMOVE THE '$' SIGN\n",
    "new_x41_train = df_train2['x41'].str.replace( '$','').astype(float)\n",
    "#new_x41_train = new_x41_train\n",
    "\n",
    "new_x41_test = df_test2['x41'].str.replace( '$','').astype(float)\n",
    "#new_x41_test = new_x41_test.df_test2['x41'].astype(float)"
   ]
  },
  {
   "cell_type": "code",
   "execution_count": 106,
   "metadata": {
    "collapsed": true
   },
   "outputs": [],
   "source": [
    "df_train2[\"x41\"] = new_x41_train\n",
    "df_test2[\"x41\"] = new_x41_test"
   ]
  },
  {
   "cell_type": "code",
   "execution_count": 107,
   "metadata": {
    "collapsed": true
   },
   "outputs": [],
   "source": [
    "#REMOVE THE '%' SIGN\n",
    "new_x45_train = df_train2_cat['x45'].str.replace('%','').astype(float)\n",
    "new_x45_test = df_test2_cat['x45'].str.replace('%','').astype(float)"
   ]
  },
  {
   "cell_type": "code",
   "execution_count": 108,
   "metadata": {
    "collapsed": true
   },
   "outputs": [],
   "source": [
    "df_train2[\"x45\"] = new_x45_train\n",
    "df_test2[\"x45\"] = new_x45_test"
   ]
  },
  {
   "cell_type": "code",
   "execution_count": 109,
   "metadata": {},
   "outputs": [
    {
     "data": {
      "text/plain": [
       "(818, 101)"
      ]
     },
     "execution_count": 109,
     "metadata": {},
     "output_type": "execute_result"
    }
   ],
   "source": [
    "# Rows with one or more NaN: There 818 rows, around 0.5% that has null values\n",
    "df_train2[df_train2.isnull().any(axis=1)].shape "
   ]
  },
  {
   "cell_type": "code",
   "execution_count": 129,
   "metadata": {
    "collapsed": true
   },
   "outputs": [],
   "source": [
    "# COPY df_train2, df_test2: Only issue left is missing numerical data\n",
    "df_train4 = df_train2.copy()\n",
    "df_test4 = df_test2.copy()"
   ]
  },
  {
   "cell_type": "code",
   "execution_count": 252,
   "metadata": {
    "collapsed": true
   },
   "outputs": [],
   "source": [
    "# SAVING THE PROGRESS\n",
    "#df_train2.to_csv(\"./data/df_train3_120517.csv\")\n",
    "#df_test2.to_csv(\"./data/df_test3_120517.csv\")"
   ]
  },
  {
   "cell_type": "code",
   "execution_count": 47,
   "metadata": {
    "collapsed": true
   },
   "outputs": [
    {
     "name": "stdout",
     "output_type": "stream",
     "text": [
      "<class 'pandas.core.frame.DataFrame'>\n",
      "RangeIndex: 40000 entries, 0 to 39999\n",
      "Data columns (total 101 columns):\n",
      "x0     float64\n",
      "x1     float64\n",
      "x2     float64\n",
      "x3     float64\n",
      "x4     float64\n",
      "x5     float64\n",
      "x6     float64\n",
      "x7     float64\n",
      "x8     float64\n",
      "x9     float64\n",
      "x10    float64\n",
      "x11    float64\n",
      "x12    float64\n",
      "x13    float64\n",
      "x14    float64\n",
      "x15    float64\n",
      "x16    float64\n",
      "x17    float64\n",
      "x18    float64\n",
      "x19    float64\n",
      "x20    float64\n",
      "x21    float64\n",
      "x22    float64\n",
      "x23    float64\n",
      "x24    float64\n",
      "x25    float64\n",
      "x26    float64\n",
      "x27    float64\n",
      "x28    float64\n",
      "x29    float64\n",
      "x30    float64\n",
      "x31    float64\n",
      "x32    float64\n",
      "x33    float64\n",
      "x34    object\n",
      "x35    object\n",
      "x36    float64\n",
      "x37    float64\n",
      "x38    float64\n",
      "x39    float64\n",
      "x40    float64\n",
      "x41    float64\n",
      "x42    float64\n",
      "x43    float64\n",
      "x44    float64\n",
      "x45    float64\n",
      "x46    float64\n",
      "x47    float64\n",
      "x48    float64\n",
      "x49    float64\n",
      "x50    float64\n",
      "x51    float64\n",
      "x52    float64\n",
      "x53    float64\n",
      "x54    float64\n",
      "x55    float64\n",
      "x56    float64\n",
      "x57    float64\n",
      "x58    float64\n",
      "x59    float64\n",
      "x60    float64\n",
      "x61    float64\n",
      "x62    float64\n",
      "x63    float64\n",
      "x64    float64\n",
      "x65    float64\n",
      "x66    float64\n",
      "x67    float64\n",
      "x68    object\n",
      "x69    float64\n",
      "x70    float64\n",
      "x71    float64\n",
      "x72    float64\n",
      "x73    float64\n",
      "x74    float64\n",
      "x75    float64\n",
      "x76    float64\n",
      "x77    float64\n",
      "x78    float64\n",
      "x79    float64\n",
      "x80    float64\n",
      "x81    float64\n",
      "x82    float64\n",
      "x83    float64\n",
      "x84    float64\n",
      "x85    float64\n",
      "x86    float64\n",
      "x87    float64\n",
      "x88    float64\n",
      "x89    float64\n",
      "x90    float64\n",
      "x91    float64\n",
      "x92    float64\n",
      "x93    object\n",
      "x94    float64\n",
      "x95    float64\n",
      "x96    float64\n",
      "x97    float64\n",
      "x98    float64\n",
      "x99    float64\n",
      "y      int64\n",
      "dtypes: float64(96), int64(1), object(4)\n",
      "memory usage: 30.8+ MB\n"
     ]
    }
   ],
   "source": [
    "df_train2.info(verbose=True)"
   ]
  },
  {
   "cell_type": "code",
   "execution_count": 111,
   "metadata": {},
   "outputs": [
    {
     "data": {
      "text/html": [
       "<div>\n",
       "<style>\n",
       "    .dataframe thead tr:only-child th {\n",
       "        text-align: right;\n",
       "    }\n",
       "\n",
       "    .dataframe thead th {\n",
       "        text-align: left;\n",
       "    }\n",
       "\n",
       "    .dataframe tbody tr th {\n",
       "        vertical-align: top;\n",
       "    }\n",
       "</style>\n",
       "<table border=\"1\" class=\"dataframe\">\n",
       "  <thead>\n",
       "    <tr style=\"text-align: right;\">\n",
       "      <th></th>\n",
       "      <th>x34</th>\n",
       "      <th>x35</th>\n",
       "      <th>x68</th>\n",
       "      <th>x93</th>\n",
       "    </tr>\n",
       "  </thead>\n",
       "  <tbody>\n",
       "    <tr>\n",
       "      <th>0</th>\n",
       "      <td>toyota</td>\n",
       "      <td>wed</td>\n",
       "      <td>jun</td>\n",
       "      <td>asia</td>\n",
       "    </tr>\n",
       "    <tr>\n",
       "      <th>1</th>\n",
       "      <td>honda</td>\n",
       "      <td>wed</td>\n",
       "      <td>sept</td>\n",
       "      <td>asia</td>\n",
       "    </tr>\n",
       "    <tr>\n",
       "      <th>2</th>\n",
       "      <td>bmw</td>\n",
       "      <td>wed</td>\n",
       "      <td>oct</td>\n",
       "      <td>america</td>\n",
       "    </tr>\n",
       "    <tr>\n",
       "      <th>3</th>\n",
       "      <td>volkswagon</td>\n",
       "      <td>wed</td>\n",
       "      <td>jun</td>\n",
       "      <td>asia</td>\n",
       "    </tr>\n",
       "    <tr>\n",
       "      <th>4</th>\n",
       "      <td>volkswagon</td>\n",
       "      <td>thur</td>\n",
       "      <td>july</td>\n",
       "      <td>asia</td>\n",
       "    </tr>\n",
       "  </tbody>\n",
       "</table>\n",
       "</div>"
      ],
      "text/plain": [
       "          x34   x35   x68      x93\n",
       "0      toyota   wed   jun     asia\n",
       "1       honda   wed  sept     asia\n",
       "2         bmw   wed   oct  america\n",
       "3  volkswagon   wed   jun     asia\n",
       "4  volkswagon  thur  july     asia"
      ]
     },
     "execution_count": 111,
     "metadata": {},
     "output_type": "execute_result"
    }
   ],
   "source": [
    "#check\n",
    "df_train2.loc[:,df_train2.dtypes==object].head()"
   ]
  },
  {
   "cell_type": "markdown",
   "metadata": {},
   "source": [
    "### Handling Outliers: \n",
    "***\n",
    "** A univariate approach**\n",
    "- We will cap and fold values in every numerical column that fall outside 2 IQR on both sides.\n",
    "\n",
    "NOTE: There could still be possibility of outliers. We shoudl aim to have models robust to outliers"
   ]
  },
  {
   "cell_type": "code",
   "execution_count": 130,
   "metadata": {
    "collapsed": true
   },
   "outputs": [],
   "source": [
    "#zscore = lambda x: (x - df_raw['x0'].mean())/df_raw['x0'].std()\n",
    "#x0 = df_raw['x0'].map(zscore)\n",
    "def fix_outliers(df, col, how='cap_fold',N=1.5, inplace=False ):\n",
    "    '''\n",
    "    Function to manage outliers in a dataframe.\n",
    "    ---------\n",
    "    Parameters\n",
    "    ---------\n",
    "        df: the dataframe\n",
    "        col: name of the column\n",
    "        how: the method by which outliers should be handled. Default is 'cap and fold'. \n",
    "            'cap_fold', 'mean', 'median', 'mode' are other possibilities.\n",
    "        N:  number of inter quartile range that should be kept in the fence\n",
    "        inplace: True makes the changes in the given dataframe itself. False by default\n",
    "    ---------\n",
    "    Returns\n",
    "    ---------\n",
    "    a dataframe where outliers have been dealt with\n",
    "    '''\n",
    "    if df[col].dtype==object:\n",
    "        if inplace:\n",
    "            return \n",
    "        else:\n",
    "            return df[col]\n",
    "\n",
    "    \n",
    "    df_col = df[col].copy()\n",
    "    if how=='drop':\n",
    "        pass\n",
    "    else:\n",
    "        q1 = df[col].quantile(0.25)\n",
    "        q3 = df[col].quantile(0.75)\n",
    "        iqr = q3 - q1     # Interquartile range\n",
    "        low_fence = q1 - 1.5*iqr\n",
    "        upper_fence = q3 + 1.5*iqr\n",
    "        \n",
    "        ## Change the element if does not fall inside the fences\n",
    "        df_col = df[col].where(df[col] > low_fence, low_fence)\n",
    "        df_col = df_col.where(df_col < upper_fence, upper_fence)\n",
    "        \n",
    "    if inplace:\n",
    "        df[col]=df_col\n",
    "        return\n",
    "    else:\n",
    "        return df_col"
   ]
  },
  {
   "cell_type": "code",
   "execution_count": 134,
   "metadata": {
    "collapsed": true
   },
   "outputs": [],
   "source": [
    "# Just a check\n",
    "cols = list(df_train2.columns)\n",
    "\n",
    "for col in cols:\n",
    "    if not(col=='y'):\n",
    "        fix_outliers(df_train2, col, inplace=True)"
   ]
  },
  {
   "cell_type": "code",
   "execution_count": 135,
   "metadata": {},
   "outputs": [
    {
     "data": {
      "text/plain": [
       "8144"
      ]
     },
     "execution_count": 135,
     "metadata": {},
     "output_type": "execute_result"
    }
   ],
   "source": [
    "sum(df_train2.y)"
   ]
  },
  {
   "cell_type": "markdown",
   "metadata": {},
   "source": [
    "### Handling missing entries\n",
    "***\n",
    "As only 0.5% of the data is missing, we will choose to delete them"
   ]
  },
  {
   "cell_type": "code",
   "execution_count": 136,
   "metadata": {
    "collapsed": true
   },
   "outputs": [],
   "source": [
    "df_train2.dropna(inplace=True)"
   ]
  },
  {
   "cell_type": "code",
   "execution_count": 137,
   "metadata": {},
   "outputs": [
    {
     "data": {
      "text/plain": [
       "(0, 101)"
      ]
     },
     "execution_count": 137,
     "metadata": {},
     "output_type": "execute_result"
    }
   ],
   "source": [
    "# Missing data check\n",
    "df_train2[df_train2.isnull().any(axis=1)].shape "
   ]
  },
  {
   "cell_type": "code",
   "execution_count": null,
   "metadata": {
    "collapsed": true
   },
   "outputs": [],
   "source": []
  },
  {
   "cell_type": "code",
   "execution_count": null,
   "metadata": {
    "collapsed": true
   },
   "outputs": [],
   "source": []
  },
  {
   "cell_type": "markdown",
   "metadata": {},
   "source": [
    "## One hot encoding of categorical variable\n",
    "<hr>\n"
   ]
  },
  {
   "cell_type": "code",
   "execution_count": 138,
   "metadata": {
    "collapsed": true
   },
   "outputs": [],
   "source": [
    "# One Hot encoding for categorical variables\n",
    "df_train2_OH = pd.get_dummies(df_train2, columns=[\"x34\", \"x35\", \"x68\", \"x93\"], \n",
    "                              prefix=[\"brand\", \"day\", \"month\", \"country\"], )\n",
    "df_test2_OH = pd.get_dummies(df_test2, columns=[\"x34\", \"x35\", \"x68\", \"x93\"], \n",
    "                              prefix=[\"brand\", \"day\", \"month\", \"country\"])"
   ]
  },
  {
   "cell_type": "code",
   "execution_count": null,
   "metadata": {
    "collapsed": true
   },
   "outputs": [],
   "source": []
  },
  {
   "cell_type": "code",
   "execution_count": 139,
   "metadata": {},
   "outputs": [
    {
     "name": "stdout",
     "output_type": "stream",
     "text": [
      "Index([u'brand_ford', u'brand_honda', u'brand_mercades', u'brand_nissan',\n",
      "       u'brand_tesla', u'brand_toyota', u'brand_volkswagon', u'day_fri',\n",
      "       u'day_mon', u'day_thur', u'day_tues', u'day_wed', u'month_apr',\n",
      "       u'month_aug', u'month_dec', u'month_feb', u'month_jan', u'month_july',\n",
      "       u'month_jun', u'month_mar', u'month_may', u'month_nov', u'month_oct',\n",
      "       u'month_sept', u'country_america', u'country_asia', u'country_euorpe'],\n",
      "      dtype='object')\n"
     ]
    }
   ],
   "source": [
    "#Check\n",
    "print df_train2_OH.columns[100:127]"
   ]
  },
  {
   "cell_type": "code",
   "execution_count": 140,
   "metadata": {},
   "outputs": [
    {
     "name": "stdout",
     "output_type": "stream",
     "text": [
      "Index([u'brand_honda', u'brand_mercades', u'brand_nissan', u'brand_tesla',\n",
      "       u'brand_toyota', u'brand_volkswagon', u'day_fri', u'day_mon',\n",
      "       u'day_thur', u'day_tues', u'day_wed', u'month_apr', u'month_aug',\n",
      "       u'month_dec', u'month_feb', u'month_jan', u'month_july', u'month_jun',\n",
      "       u'month_mar', u'month_may', u'month_nov', u'month_oct', u'month_sept',\n",
      "       u'country_america', u'country_asia', u'country_euorpe'],\n",
      "      dtype='object')\n"
     ]
    }
   ],
   "source": [
    "print df_test2_OH.columns[100:127]"
   ]
  },
  {
   "cell_type": "markdown",
   "metadata": {},
   "source": [
    "#### NOTE: Faulty approach as the column names in test and train could differ in order\n",
    "<hr>\n",
    "There could be different ways of solving this.\n",
    "- Combine the train and test data and apply one hot encoding simultaniously.\n",
    "- Use Scikit-learn's OneHotEncoding Feature instead that could be setup to return the same order."
   ]
  },
  {
   "cell_type": "code",
   "execution_count": 141,
   "metadata": {},
   "outputs": [
    {
     "data": {
      "text/plain": [
       "(0, 101)"
      ]
     },
     "execution_count": 141,
     "metadata": {},
     "output_type": "execute_result"
    }
   ],
   "source": [
    "# Rows with one or more NaN: There 818 rows, around 0.5% that has null values\n",
    "df_train2[df_train2.isnull().any(axis=1)].shape "
   ]
  },
  {
   "cell_type": "code",
   "execution_count": 142,
   "metadata": {
    "collapsed": true
   },
   "outputs": [],
   "source": [
    "# Note that there is no y column in test data\n",
    "df_train_test2 = pd.concat([df_train2.iloc[:, 0:100], df_test2])"
   ]
  },
  {
   "cell_type": "code",
   "execution_count": 143,
   "metadata": {},
   "outputs": [
    {
     "data": {
      "text/plain": [
       "(49965, 100)"
      ]
     },
     "execution_count": 143,
     "metadata": {},
     "output_type": "execute_result"
    }
   ],
   "source": [
    "df_train_test2.shape"
   ]
  },
  {
   "cell_type": "code",
   "execution_count": null,
   "metadata": {
    "collapsed": true
   },
   "outputs": [],
   "source": []
  },
  {
   "cell_type": "code",
   "execution_count": 144,
   "metadata": {
    "collapsed": true
   },
   "outputs": [],
   "source": [
    "df_train_test2_OH = pd.get_dummies(df_train_test2, columns=[\"x34\", \"x35\", \"x68\", \"x93\"], \n",
    "                              prefix=[\"brand\", \"day\", \"month\", \"country\"])"
   ]
  },
  {
   "cell_type": "code",
   "execution_count": 145,
   "metadata": {},
   "outputs": [
    {
     "data": {
      "text/plain": [
       "(49965, 126)"
      ]
     },
     "execution_count": 145,
     "metadata": {},
     "output_type": "execute_result"
    }
   ],
   "source": [
    "df_train_test2_OH.shape"
   ]
  },
  {
   "cell_type": "code",
   "execution_count": 146,
   "metadata": {
    "collapsed": true
   },
   "outputs": [],
   "source": [
    "#Separate the train and test data.\n",
    "df_train2_OH = df_train_test2_OH.iloc[0:df_train2.shape[0], :].copy()\n",
    "df_test2_OH = df_train_test2_OH.iloc[df_train2.shape[0]:df_train_test2_OH.shape[0], :].copy()"
   ]
  },
  {
   "cell_type": "code",
   "execution_count": 147,
   "metadata": {},
   "outputs": [
    {
     "data": {
      "text/plain": [
       "(0, 126)"
      ]
     },
     "execution_count": 147,
     "metadata": {},
     "output_type": "execute_result"
    }
   ],
   "source": [
    "df_train2_OH[df_train2_OH.isnull().any(axis=1)].shape "
   ]
  },
  {
   "cell_type": "code",
   "execution_count": 148,
   "metadata": {},
   "outputs": [],
   "source": [
    "df_train2_OH.loc[:,'y'] = df_train2.loc[:,'y']"
   ]
  },
  {
   "cell_type": "code",
   "execution_count": 149,
   "metadata": {},
   "outputs": [
    {
     "data": {
      "text/plain": [
       "(39965, 127)"
      ]
     },
     "execution_count": 149,
     "metadata": {},
     "output_type": "execute_result"
    }
   ],
   "source": [
    "df_train2_OH.shape"
   ]
  },
  {
   "cell_type": "code",
   "execution_count": 150,
   "metadata": {},
   "outputs": [
    {
     "data": {
      "text/plain": [
       "8139"
      ]
     },
     "execution_count": 150,
     "metadata": {},
     "output_type": "execute_result"
    }
   ],
   "source": [
    "sum(df_train2.loc[:,'y'])"
   ]
  },
  {
   "cell_type": "code",
   "execution_count": 151,
   "metadata": {},
   "outputs": [],
   "source": [
    "#Sanity check\n",
    "assert any(df_train2_OH.loc[0:df_train2.shape[0],'y']==df_train2.loc[0:df_train2.shape[0],'y'])"
   ]
  },
  {
   "cell_type": "code",
   "execution_count": 152,
   "metadata": {},
   "outputs": [],
   "source": [
    "# SAVE DF after ONE HOT ENCODING\n",
    "df_train2_OH.to_csv(\"./datasets/train2.csv\",index=False)\n",
    "df_test2_OH.to_csv(\"./datasets/test2.csv\", index=False)"
   ]
  },
  {
   "cell_type": "markdown",
   "metadata": {
    "collapsed": true
   },
   "source": [
    "### A predictive model for claim approval in part 2."
   ]
  },
  {
   "cell_type": "code",
   "execution_count": null,
   "metadata": {
    "collapsed": true
   },
   "outputs": [],
   "source": []
  }
 ],
 "metadata": {
  "kernelspec": {
   "display_name": "Python 2",
   "language": "python",
   "name": "python2"
  },
  "language_info": {
   "codemirror_mode": {
    "name": "ipython",
    "version": 2
   },
   "file_extension": ".py",
   "mimetype": "text/x-python",
   "name": "python",
   "nbconvert_exporter": "python",
   "pygments_lexer": "ipython2",
   "version": "2.7.13"
  }
 },
 "nbformat": 4,
 "nbformat_minor": 2
}
